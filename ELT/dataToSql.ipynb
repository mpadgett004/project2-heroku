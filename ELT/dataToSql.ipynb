{
 "cells": [
  {
   "cell_type": "markdown",
   "metadata": {},
   "source": [
    "## Find and Load Data to SQL :  US and Global Energy Generation and Consumption "
   ]
  },
  {
   "cell_type": "code",
   "execution_count": 1,
   "metadata": {},
   "outputs": [],
   "source": [
    "## Dedependiecies \n",
    "\n",
    "# Web scrape\n",
    "from splinter import Browser\n",
    "from bs4 import BeautifulSoup\n",
    "from webdriver_manager.chrome import ChromeDriverManager\n",
    "import psycopg2\n",
    "\n",
    "# SQL\n",
    "from sqlalchemy import create_engine, inspect\n",
    "from sqlalchemy.ext.automap import automap_base\n",
    "from sqlalchemy.orm import Session\n",
    "from flask_sqlalchemy import SQLAlchemy\n",
    "\n",
    "# General\n",
    "import pandas as pd\n",
    "import numpy as np"
   ]
  },
  {
   "cell_type": "markdown",
   "metadata": {},
   "source": [
    "## Web scraping"
   ]
  },
  {
   "cell_type": "code",
   "execution_count": 2,
   "metadata": {},
   "outputs": [],
   "source": [
    "# Open browser with splinter \n",
    "# (Headless = True) Thus we do not see the browser oepning and closing\n",
    "executable_path = {'executable_path': 'chromedriver.exe'}\n",
    "browser = Browser('chrome', **executable_path, headless=False)"
   ]
  },
  {
   "cell_type": "code",
   "execution_count": 3,
   "metadata": {},
   "outputs": [],
   "source": [
    "# HTML Object and Beautiful Soup Parseing\n",
    "url = 'https://www.nei.org/resources/statistics/state-electricity-generation-fuel-shares'\n",
    "browser.visit(url)"
   ]
  },
  {
   "cell_type": "code",
   "execution_count": 4,
   "metadata": {},
   "outputs": [],
   "source": [
    "# HTML Object and Beautiful Soup Parseing\n",
    "html = browser.html\n",
    "soup = BeautifulSoup(html, 'html.parser')"
   ]
  },
  {
   "cell_type": "code",
   "execution_count": 5,
   "metadata": {},
   "outputs": [
    {
     "name": "stdout",
     "output_type": "stream",
     "text": [
      "[['Alabama', '31.4', '19.2', '38.7', '0.0', '7.8', '0.0', '0.3', '0.0', '2.5'], ['Alaska', '0.0', '10.6', '49.9', '14.4', '22.0', '0.0', '0.0', '2.4', '0.6'], ['Arizona', '28.1', '20.4', '40.9', '0.1', '5.4', '0.0', '4.5', '0.5', '0.2'], ['Arkansas', '22.0', '37.9', '33.0', '0.1', '4.5', '0.0', '0.3', '0.0', '2.2'], ['California', '7.9', '0.1', '42.4', '0.0', '19.5', '5.6', '14.0', '7.3', '3.2'], ['Colorado', '0.0', '45.1', '30.4', '0.0', '2.5', '0.0', '2.1', '19.4', '0.4'], ['Connecticut', '41.7', '0.1', '52.8', '0.2', '1.3', '0.0', '0.4', '0.0', '3.3'], ['Delaware', '0.0', '2.3', '94.7', '0.8', '0.0', '0.0', '1.0', '0.1', '1.0'], ['District of Columbia', '0.0', '0.0', '27.1', '0.0', '0.0', '0.0', '15.1', '0.0', '57.8'], ['Florida', '11.8', '9.1', '74.3', '0.1', '0.1', '0.0', '1.6', '0.0', '3.1'], ['Georgia', '26.3', '19.9', '45.7', '0.1', '2.3', '0.0', '1.6', '0.0', '4.1'], ['Hawaii', '0.0', '13.2', '0.1', '69.3', '0.7', '1.1', '2.7', '6.0', '6.9'], ['Idaho', '0.0', '0.1', '21.1', '0.0', '55.4', '0.4', '3.3', '16.2', '3.4'], ['Illinois', '54.4', '26.9', '10.6', '0.0', '0.1', '0.0', '0.0', '7.6', '0.4'], ['Indiana', '0.0', '56.7', '35.9', '0.1', '0.2', '0.0', '0.3', '6.0', '0.7'], ['Iowa1', '8.3', '35.2', '12.9', '0.1', '1.2', '0.0', '0.0', '42.0', '0.3'], ['Kansas', '17.8', '33.4', '7.0', '0.1', '0.0', '0.0', '0.0', '41.4', '0.1'], ['Kentucky', '0.0', '72.7', '20.8', '0.1', '5.6', '0.0', '0.1', '0.0', '0.7'], ['Louisiana', '13.8', '10.4', '72.0', '0.0', '1.1', '0.0', '0.0', '0.0', '2.6'], ['Maine', '0.0', '0.8', '15.9', '0.3', '30.8', '0.0', '0.1', '23.8', '28.3'], ['Maryland', '37.8', '14.4', '37.4', '0.2', '5.6', '0.0', '1.3', '1.5', '1.8'], ['Massachusetts', '9.8', '0.0', '71.6', '0.6', '2.9', '0.0', '5.3', '1.0', '8.8'], ['Michigan', '28.2', '32.7', '31.1', '0.1', '0.5', '0.0', '0.1', '5.0', '2.2'], ['Minnesota', '24.4', '31.5', '17.9', '0.1', '1.5', '0.1', '2.6', '19.1', '2.9'], ['Mississippi', '16.5', '6.6', '74.3', '0.0', '0.0', '0.0', '0.5', '0.0', '2.1'], ['Missouri', '12.0', '72.8', '9.6', '0.1', '1.4', '0.0', '0.1', '3.8', '0.1'], ['Montana', '0.0', '53.9', '2.0', '0.1', '34.7', '0.6', '0.1', '8.6', '0.1'], ['Nebraska', '18.7', '54.7', '3.3', '0.1', '3.1', '0.0', '0.1', '19.9', '0.2'], ['Nevada', '0.0', '6.9', '64.8', '0.0', '5.6', '9.5', '12.2', '0.8', '0.2'], ['New Hampshire', '60.8', '1.9', '20.0', '0.2', '6.9', '0.0', '0.0', '2.3', '8.1'], ['New Jersey', '37.4', '1.6', '57.3', '0.1', '(0.1)', '0.0', '1.7', '0.0', '2.0'], ['New Mexico', '0.0', '41.8', '34.1', '0.1', '0.4', '0.2', '3.9', '19.5', '0.0'], ['New York', '33.9', '0.3', '37.3', '0.4', '22.1', '0.0', '0.5', '3.3', '2.2'], ['North Carolina', '31.8', '23.3', '31.7', '0.2', '4.7', '0.0', '5.5', '0.4', '2.3'], ['North Dakota', '0.0', '61.9', '3.2', '0.1', '6.9', '0.3', '0.0', '27.5', '0.1'], ['Ohio', '14.2', '39.8', '43.2', '0.1', '0.2', '0.0', '0.1', '1.7', '0.6'], ['Oklahoma', '0.0', '9.4', '53.5', '0.0', '2.1', '0.0', '0.1', '34.6', '0.4'], ['Oregon', '0.0', '4.1', '33.9', '0.0', '47.4', '0.2', '1.1', '11.5', '1.8'], ['Pennsylvania', '36.0', '16.8', '42.8', '0.1', '1.5', '0.0', '0.0', '1.5', '1.3'], ['Rhode Island', '0.0', '0.0', '93.2', '0.2', '0.0', '0.0', '0.9', '2.9', '2.7'], ['South Carolina', '55.8', '14.8', '24.1', '0.1', '1.9', '0.0', '0.8', '0.0', '2.4'], ['South Dakota', '0.0', '20.7', '10.7', '0.1', '44.6', '0.0', '0.0', '23.9', '0.0'], ['Tennessee', '43.7', '22.9', '20.3', '0.2', '11.3', '0.0', '0.4', '0.0', '1.1'], ['Texas', '8.6', '19.1', '53.4', '0.0', '0.2', '0.0', '0.9', '17.5', '0.4'], ['Utah', '0.0', '64.4', '24.1', '0.1', '2.0', '1.1', '5.5', '2.1', '0.7'], ['Vermont', '0.0', '0.0', '0.1', '0.1', '54.9', '0.0', '8.0', '17.6', '19.4'], ['Virginia', '30.3', '3.6', '60.1', '0.3', '0.5', '0.0', '0.9', '0.0', '4.5'], ['Washington', '8.4', '6.8', '13.3', '0.0', '62.6', '0.0', '0.0', '7.3', '1.6'], ['West Virginia', '0.0', '91.0', '3.4', '0.2', '2.8', '0.0', '0.0', '2.7', '(0.0)'], ['Wisconsin', '16.0', '42.1', '33.7', '0.1', '3.2', '0.0', '0.1', '2.6', '2.2'], ['Wyoming', '0.0', '84.3', '3.2', '0.1', '2.0', '0.0', '0.4', '9.8', '0.2']]\n"
     ]
    }
   ],
   "source": [
    "# Retrieve and collect all desired data\n",
    "webTable = soup.find_all('tr')\n",
    "\n",
    "# When in doube print() it out\n",
    "# All desired data is in one line, thus have to split\n",
    "us_percent_list = []\n",
    "temp_list = []\n",
    "list_element = \"\"\n",
    "tableData = []\n",
    "\n",
    "for result in webTable:\n",
    "    tableData = result.find_all('td')\n",
    "    temp_list = []\n",
    "    for data in tableData:\n",
    "        list_element = data.get_text()\n",
    "        temp_list.append(list_element)\n",
    "    if not temp_list:\n",
    "        pass\n",
    "    else:\n",
    "        us_percent_list.append(temp_list)\n",
    "\n",
    "print(us_percent_list)"
   ]
  },
  {
   "cell_type": "code",
   "execution_count": 6,
   "metadata": {},
   "outputs": [
    {
     "name": "stdout",
     "output_type": "stream",
     "text": [
      "The length of this df is: 51\n"
     ]
    },
    {
     "data": {
      "text/html": [
       "<div>\n",
       "<style scoped>\n",
       "    .dataframe tbody tr th:only-of-type {\n",
       "        vertical-align: middle;\n",
       "    }\n",
       "\n",
       "    .dataframe tbody tr th {\n",
       "        vertical-align: top;\n",
       "    }\n",
       "\n",
       "    .dataframe thead th {\n",
       "        text-align: right;\n",
       "    }\n",
       "</style>\n",
       "<table border=\"1\" class=\"dataframe\">\n",
       "  <thead>\n",
       "    <tr style=\"text-align: right;\">\n",
       "      <th></th>\n",
       "      <th>State</th>\n",
       "      <th>Nuclear</th>\n",
       "      <th>Coal</th>\n",
       "      <th>Natural Gas</th>\n",
       "      <th>Petroleum</th>\n",
       "      <th>Hydro</th>\n",
       "      <th>Geothermal</th>\n",
       "      <th>Solar - PV</th>\n",
       "      <th>Wind</th>\n",
       "      <th>Biomass and Other</th>\n",
       "    </tr>\n",
       "  </thead>\n",
       "  <tbody>\n",
       "    <tr>\n",
       "      <th>0</th>\n",
       "      <td>Alabama</td>\n",
       "      <td>31.4</td>\n",
       "      <td>19.2</td>\n",
       "      <td>38.7</td>\n",
       "      <td>0.0</td>\n",
       "      <td>7.8</td>\n",
       "      <td>0.0</td>\n",
       "      <td>0.3</td>\n",
       "      <td>0.0</td>\n",
       "      <td>2.5</td>\n",
       "    </tr>\n",
       "    <tr>\n",
       "      <th>1</th>\n",
       "      <td>Alaska</td>\n",
       "      <td>0.0</td>\n",
       "      <td>10.6</td>\n",
       "      <td>49.9</td>\n",
       "      <td>14.4</td>\n",
       "      <td>22.0</td>\n",
       "      <td>0.0</td>\n",
       "      <td>0.0</td>\n",
       "      <td>2.4</td>\n",
       "      <td>0.6</td>\n",
       "    </tr>\n",
       "    <tr>\n",
       "      <th>2</th>\n",
       "      <td>Arizona</td>\n",
       "      <td>28.1</td>\n",
       "      <td>20.4</td>\n",
       "      <td>40.9</td>\n",
       "      <td>0.1</td>\n",
       "      <td>5.4</td>\n",
       "      <td>0.0</td>\n",
       "      <td>4.5</td>\n",
       "      <td>0.5</td>\n",
       "      <td>0.2</td>\n",
       "    </tr>\n",
       "    <tr>\n",
       "      <th>3</th>\n",
       "      <td>Arkansas</td>\n",
       "      <td>22.0</td>\n",
       "      <td>37.9</td>\n",
       "      <td>33.0</td>\n",
       "      <td>0.1</td>\n",
       "      <td>4.5</td>\n",
       "      <td>0.0</td>\n",
       "      <td>0.3</td>\n",
       "      <td>0.0</td>\n",
       "      <td>2.2</td>\n",
       "    </tr>\n",
       "    <tr>\n",
       "      <th>4</th>\n",
       "      <td>California</td>\n",
       "      <td>7.9</td>\n",
       "      <td>0.1</td>\n",
       "      <td>42.4</td>\n",
       "      <td>0.0</td>\n",
       "      <td>19.5</td>\n",
       "      <td>5.6</td>\n",
       "      <td>14.0</td>\n",
       "      <td>7.3</td>\n",
       "      <td>3.2</td>\n",
       "    </tr>\n",
       "  </tbody>\n",
       "</table>\n",
       "</div>"
      ],
      "text/plain": [
       "        State Nuclear  Coal Natural Gas Petroleum Hydro Geothermal Solar - PV  \\\n",
       "0     Alabama    31.4  19.2        38.7       0.0   7.8        0.0        0.3   \n",
       "1      Alaska     0.0  10.6        49.9      14.4  22.0        0.0        0.0   \n",
       "2     Arizona    28.1  20.4        40.9       0.1   5.4        0.0        4.5   \n",
       "3    Arkansas    22.0  37.9        33.0       0.1   4.5        0.0        0.3   \n",
       "4  California     7.9   0.1        42.4       0.0  19.5        5.6       14.0   \n",
       "\n",
       "  Wind Biomass and Other  \n",
       "0  0.0               2.5  \n",
       "1  2.4               0.6  \n",
       "2  0.5               0.2  \n",
       "3  0.0               2.2  \n",
       "4  7.3               3.2  "
      ]
     },
     "execution_count": 6,
     "metadata": {},
     "output_type": "execute_result"
    }
   ],
   "source": [
    "# Convert data into df and clean\n",
    "#US_percentage_df = pd.DataFrame(us_percent_list, columns = tableHeaders)\n",
    "US_percentage_df = pd.DataFrame(us_percent_list, columns = [\"State\", \"Nuclear\", \"Coal\", \"Natural Gas\", \n",
    "                                                            \"Petroleum\", \"Hydro\", \"Geothermal\", \n",
    "                                                            \"Solar - PV\", \"Wind\", \"Biomass and Other\"])\n",
    "\n",
    "\n",
    "print(f'The length of this df is: {len(US_percentage_df)}')\n",
    "US_percentage_df.head()\n",
    "\n",
    "#### ValueError: 10 columns passed, passed data had 510 columns  ####"
   ]
  },
  {
   "cell_type": "code",
   "execution_count": 7,
   "metadata": {},
   "outputs": [],
   "source": [
    "# Finished scraping from the web, quit browser in background\n",
    "browser.quit()"
   ]
  },
  {
   "cell_type": "markdown",
   "metadata": {},
   "source": [
    "## CSV: Load  and Clean"
   ]
  },
  {
   "cell_type": "markdown",
   "metadata": {},
   "source": [
    "### CSV Source 1"
   ]
  },
  {
   "cell_type": "code",
   "execution_count": 8,
   "metadata": {},
   "outputs": [
    {
     "name": "stdout",
     "output_type": "stream",
     "text": [
      "Length of CSV1 is: 53756\n"
     ]
    },
    {
     "data": {
      "text/html": [
       "<div>\n",
       "<style scoped>\n",
       "    .dataframe tbody tr th:only-of-type {\n",
       "        vertical-align: middle;\n",
       "    }\n",
       "\n",
       "    .dataframe tbody tr th {\n",
       "        vertical-align: top;\n",
       "    }\n",
       "\n",
       "    .dataframe thead th {\n",
       "        text-align: right;\n",
       "    }\n",
       "</style>\n",
       "<table border=\"1\" class=\"dataframe\">\n",
       "  <thead>\n",
       "    <tr style=\"text-align: right;\">\n",
       "      <th></th>\n",
       "      <th>YEAR</th>\n",
       "      <th>STATE</th>\n",
       "      <th>TYPE OF PRODUCER</th>\n",
       "      <th>ENERGY SOURCE</th>\n",
       "      <th>GENERATION (Megawatthours)</th>\n",
       "      <th>Unnamed: 5</th>\n",
       "      <th>Unnamed: 6</th>\n",
       "      <th>Unnamed: 7</th>\n",
       "      <th>Unnamed: 8</th>\n",
       "      <th>Unnamed: 9</th>\n",
       "      <th>Unnamed: 10</th>\n",
       "    </tr>\n",
       "  </thead>\n",
       "  <tbody>\n",
       "    <tr>\n",
       "      <th>0</th>\n",
       "      <td>1990</td>\n",
       "      <td>AK</td>\n",
       "      <td>Total Electric Power Industry</td>\n",
       "      <td>Total</td>\n",
       "      <td>5,599,506</td>\n",
       "      <td>NaN</td>\n",
       "      <td>NaN</td>\n",
       "      <td>NaN</td>\n",
       "      <td>NaN</td>\n",
       "      <td>NaN</td>\n",
       "      <td>NaN</td>\n",
       "    </tr>\n",
       "    <tr>\n",
       "      <th>1</th>\n",
       "      <td>1990</td>\n",
       "      <td>AK</td>\n",
       "      <td>Total Electric Power Industry</td>\n",
       "      <td>Coal</td>\n",
       "      <td>510,573</td>\n",
       "      <td>NaN</td>\n",
       "      <td>NaN</td>\n",
       "      <td>NaN</td>\n",
       "      <td>NaN</td>\n",
       "      <td>NaN</td>\n",
       "      <td>NaN</td>\n",
       "    </tr>\n",
       "    <tr>\n",
       "      <th>2</th>\n",
       "      <td>1990</td>\n",
       "      <td>AK</td>\n",
       "      <td>Total Electric Power Industry</td>\n",
       "      <td>Hydroelectric Conventional</td>\n",
       "      <td>974,521</td>\n",
       "      <td>NaN</td>\n",
       "      <td>NaN</td>\n",
       "      <td>NaN</td>\n",
       "      <td>NaN</td>\n",
       "      <td>NaN</td>\n",
       "      <td>NaN</td>\n",
       "    </tr>\n",
       "    <tr>\n",
       "      <th>3</th>\n",
       "      <td>1990</td>\n",
       "      <td>AK</td>\n",
       "      <td>Total Electric Power Industry</td>\n",
       "      <td>Natural Gas</td>\n",
       "      <td>3,466,261</td>\n",
       "      <td>NaN</td>\n",
       "      <td>NaN</td>\n",
       "      <td>NaN</td>\n",
       "      <td>NaN</td>\n",
       "      <td>NaN</td>\n",
       "      <td>NaN</td>\n",
       "    </tr>\n",
       "    <tr>\n",
       "      <th>4</th>\n",
       "      <td>1990</td>\n",
       "      <td>AK</td>\n",
       "      <td>Total Electric Power Industry</td>\n",
       "      <td>Petroleum</td>\n",
       "      <td>497,116</td>\n",
       "      <td>NaN</td>\n",
       "      <td>NaN</td>\n",
       "      <td>NaN</td>\n",
       "      <td>NaN</td>\n",
       "      <td>NaN</td>\n",
       "      <td>NaN</td>\n",
       "    </tr>\n",
       "  </tbody>\n",
       "</table>\n",
       "</div>"
      ],
      "text/plain": [
       "   YEAR STATE               TYPE OF PRODUCER               ENERGY SOURCE  \\\n",
       "0  1990    AK  Total Electric Power Industry                       Total   \n",
       "1  1990    AK  Total Electric Power Industry                        Coal   \n",
       "2  1990    AK  Total Electric Power Industry  Hydroelectric Conventional   \n",
       "3  1990    AK  Total Electric Power Industry                 Natural Gas   \n",
       "4  1990    AK  Total Electric Power Industry                   Petroleum   \n",
       "\n",
       "  GENERATION (Megawatthours)  Unnamed: 5  Unnamed: 6  Unnamed: 7  Unnamed: 8  \\\n",
       "0                  5,599,506         NaN         NaN         NaN         NaN   \n",
       "1                    510,573         NaN         NaN         NaN         NaN   \n",
       "2                    974,521         NaN         NaN         NaN         NaN   \n",
       "3                  3,466,261         NaN         NaN         NaN         NaN   \n",
       "4                    497,116         NaN         NaN         NaN         NaN   \n",
       "\n",
       "   Unnamed: 9  Unnamed: 10  \n",
       "0         NaN          NaN  \n",
       "1         NaN          NaN  \n",
       "2         NaN          NaN  \n",
       "3         NaN          NaN  \n",
       "4         NaN          NaN  "
      ]
     },
     "execution_count": 8,
     "metadata": {},
     "output_type": "execute_result"
    }
   ],
   "source": [
    "# read from local file\n",
    "raw_csv_1 = \"./Resources/US/annual_generation_state.csv\"\n",
    "CSV_df_1 = pd.read_csv(raw_csv_1, skiprows=4, sep = ',', encoding='ISO-8859-1')\n",
    "print(f'Length of CSV1 is: {len(CSV_df_1)}')\n",
    "# Display head of data set to be sure it was loaded correctly\n",
    "CSV_df_1.head()"
   ]
  },
  {
   "cell_type": "code",
   "execution_count": 9,
   "metadata": {},
   "outputs": [
    {
     "data": {
      "text/html": [
       "<div>\n",
       "<style scoped>\n",
       "    .dataframe tbody tr th:only-of-type {\n",
       "        vertical-align: middle;\n",
       "    }\n",
       "\n",
       "    .dataframe tbody tr th {\n",
       "        vertical-align: top;\n",
       "    }\n",
       "\n",
       "    .dataframe thead th {\n",
       "        text-align: right;\n",
       "    }\n",
       "</style>\n",
       "<table border=\"1\" class=\"dataframe\">\n",
       "  <thead>\n",
       "    <tr style=\"text-align: right;\">\n",
       "      <th></th>\n",
       "      <th>YEAR</th>\n",
       "      <th>STATE</th>\n",
       "      <th>TYPE OF PRODUCER</th>\n",
       "      <th>ENERGY SOURCE</th>\n",
       "      <th>GENERATION Mwh</th>\n",
       "    </tr>\n",
       "  </thead>\n",
       "  <tbody>\n",
       "    <tr>\n",
       "      <th>0</th>\n",
       "      <td>1990</td>\n",
       "      <td>AK</td>\n",
       "      <td>Total Electric Power Industry</td>\n",
       "      <td>Total</td>\n",
       "      <td>5,599,506</td>\n",
       "    </tr>\n",
       "    <tr>\n",
       "      <th>1</th>\n",
       "      <td>1990</td>\n",
       "      <td>AK</td>\n",
       "      <td>Total Electric Power Industry</td>\n",
       "      <td>Coal</td>\n",
       "      <td>510,573</td>\n",
       "    </tr>\n",
       "    <tr>\n",
       "      <th>2</th>\n",
       "      <td>1990</td>\n",
       "      <td>AK</td>\n",
       "      <td>Total Electric Power Industry</td>\n",
       "      <td>Hydroelectric Conventional</td>\n",
       "      <td>974,521</td>\n",
       "    </tr>\n",
       "    <tr>\n",
       "      <th>3</th>\n",
       "      <td>1990</td>\n",
       "      <td>AK</td>\n",
       "      <td>Total Electric Power Industry</td>\n",
       "      <td>Natural Gas</td>\n",
       "      <td>3,466,261</td>\n",
       "    </tr>\n",
       "    <tr>\n",
       "      <th>4</th>\n",
       "      <td>1990</td>\n",
       "      <td>AK</td>\n",
       "      <td>Total Electric Power Industry</td>\n",
       "      <td>Petroleum</td>\n",
       "      <td>497,116</td>\n",
       "    </tr>\n",
       "    <tr>\n",
       "      <th>5</th>\n",
       "      <td>1990</td>\n",
       "      <td>AK</td>\n",
       "      <td>Total Electric Power Industry</td>\n",
       "      <td>Wind</td>\n",
       "      <td>0</td>\n",
       "    </tr>\n",
       "    <tr>\n",
       "      <th>6</th>\n",
       "      <td>1990</td>\n",
       "      <td>AK</td>\n",
       "      <td>Total Electric Power Industry</td>\n",
       "      <td>Wood and Wood Derived Fuels</td>\n",
       "      <td>151,035</td>\n",
       "    </tr>\n",
       "    <tr>\n",
       "      <th>7</th>\n",
       "      <td>1990</td>\n",
       "      <td>AK</td>\n",
       "      <td>Electric Generators, Electric Utilities</td>\n",
       "      <td>Total</td>\n",
       "      <td>4,493,024</td>\n",
       "    </tr>\n",
       "    <tr>\n",
       "      <th>8</th>\n",
       "      <td>1990</td>\n",
       "      <td>AK</td>\n",
       "      <td>Electric Generators, Electric Utilities</td>\n",
       "      <td>Coal</td>\n",
       "      <td>311,960</td>\n",
       "    </tr>\n",
       "    <tr>\n",
       "      <th>9</th>\n",
       "      <td>1990</td>\n",
       "      <td>AK</td>\n",
       "      <td>Electric Generators, Electric Utilities</td>\n",
       "      <td>Hydroelectric Conventional</td>\n",
       "      <td>974,521</td>\n",
       "    </tr>\n",
       "  </tbody>\n",
       "</table>\n",
       "</div>"
      ],
      "text/plain": [
       "   YEAR STATE                         TYPE OF PRODUCER  \\\n",
       "0  1990    AK            Total Electric Power Industry   \n",
       "1  1990    AK            Total Electric Power Industry   \n",
       "2  1990    AK            Total Electric Power Industry   \n",
       "3  1990    AK            Total Electric Power Industry   \n",
       "4  1990    AK            Total Electric Power Industry   \n",
       "5  1990    AK            Total Electric Power Industry   \n",
       "6  1990    AK            Total Electric Power Industry   \n",
       "7  1990    AK  Electric Generators, Electric Utilities   \n",
       "8  1990    AK  Electric Generators, Electric Utilities   \n",
       "9  1990    AK  Electric Generators, Electric Utilities   \n",
       "\n",
       "                 ENERGY SOURCE GENERATION Mwh  \n",
       "0                        Total      5,599,506  \n",
       "1                         Coal        510,573  \n",
       "2   Hydroelectric Conventional        974,521  \n",
       "3                  Natural Gas      3,466,261  \n",
       "4                    Petroleum        497,116  \n",
       "5                         Wind              0  \n",
       "6  Wood and Wood Derived Fuels        151,035  \n",
       "7                        Total      4,493,024  \n",
       "8                         Coal        311,960  \n",
       "9   Hydroelectric Conventional        974,521  "
      ]
     },
     "execution_count": 9,
     "metadata": {},
     "output_type": "execute_result"
    }
   ],
   "source": [
    "annual_US_generation_df = CSV_df_1[['YEAR','STATE','TYPE OF PRODUCER','ENERGY SOURCE','GENERATION (Megawatthours)']].copy()\n",
    "annual_US_generation_df.columns =  ['YEAR','STATE','TYPE OF PRODUCER','ENERGY SOURCE','GENERATION Mwh']\n",
    "#state_group = annual_US_generation_df.groupby(['YEAR', 'STATE'])\n",
    "#state_group.head(20)\n",
    "#state_group\n",
    "\n",
    "annual_US_generation_df.head(10)"
   ]
  },
  {
   "cell_type": "markdown",
   "metadata": {},
   "source": [
    "### CSV Source 2"
   ]
  },
  {
   "cell_type": "code",
   "execution_count": null,
   "metadata": {},
   "outputs": [],
   "source": [
    "# read from local file\n",
    "raw_csv_2 = \"./Resources/name2.csv\"\n",
    "CSV_df_2 = pd.read_csv(raw_csv_1, sep = ',', encoding='ISO-8859-1')\n",
    "\n",
    "# Display head of data set to be sure it was loaded correctly\n",
    "CSV_df_2.head()"
   ]
  },
  {
   "cell_type": "code",
   "execution_count": null,
   "metadata": {},
   "outputs": [],
   "source": []
  },
  {
   "cell_type": "markdown",
   "metadata": {},
   "source": [
    "### CSV Source 3"
   ]
  },
  {
   "cell_type": "code",
   "execution_count": null,
   "metadata": {},
   "outputs": [],
   "source": [
    "## Source 3\n",
    "# read from local file\n",
    "raw_csv_3 = \"./Resources/name3.csv\"\n",
    "CSV_df_3 = pd.read_csv(raw_csv_1, sep = ',', encoding='ISO-8859-1')\n",
    "\n",
    "# Display head of data set to be sure it was loaded correctly\n",
    "CSV_df_3.head()"
   ]
  },
  {
   "cell_type": "markdown",
   "metadata": {},
   "source": [
    "## Add CSV and json to SQL, SQLite"
   ]
  },
  {
   "cell_type": "code",
   "execution_count": 1,
   "metadata": {},
   "outputs": [],
   "source": [
    "import pandas as pd\n",
    "from sqlalchemy import create_engine\n",
    "from sqlalchemy.orm import sessionmaker\n",
    "from sqlalchemy.ext.declarative import declarative_base\n",
    "from sqlalchemy import Table,Column,Integer,String\n",
    "import glob\n",
    "import os\n",
    "from sqlalchemy import MetaData\n",
    "from sqlalchemy.orm import mapper"
   ]
  },
  {
   "cell_type": "code",
   "execution_count": 2,
   "metadata": {},
   "outputs": [],
   "source": [
    "import csv, sqlite3"
   ]
  },
  {
   "cell_type": "code",
   "execution_count": 3,
   "metadata": {},
   "outputs": [
    {
     "ename": "OperationalError",
     "evalue": "unable to open database file",
     "output_type": "error",
     "traceback": [
      "\u001b[1;31m---------------------------------------------------------------------------\u001b[0m",
      "\u001b[1;31mOperationalError\u001b[0m                          Traceback (most recent call last)",
      "\u001b[1;32m<ipython-input-3-02ee249aee36>\u001b[0m in \u001b[0;36m<module>\u001b[1;34m\u001b[0m\n\u001b[1;32m----> 1\u001b[1;33m \u001b[0mconnection\u001b[0m \u001b[1;33m=\u001b[0m \u001b[0msqlite3\u001b[0m\u001b[1;33m.\u001b[0m\u001b[0mconnect\u001b[0m\u001b[1;33m(\u001b[0m\u001b[1;34m\"sqlite:///Energy_project.db\"\u001b[0m\u001b[1;33m)\u001b[0m \u001b[1;31m# change to 'sqlite:///your_filename.db' #:memory:\u001b[0m\u001b[1;33m\u001b[0m\u001b[1;33m\u001b[0m\u001b[0m\n\u001b[0m\u001b[0;32m      2\u001b[0m \u001b[0mcursor\u001b[0m \u001b[1;33m=\u001b[0m \u001b[0mconnection\u001b[0m\u001b[1;33m.\u001b[0m\u001b[0mcursor\u001b[0m\u001b[1;33m(\u001b[0m\u001b[1;33m)\u001b[0m\u001b[1;33m\u001b[0m\u001b[1;33m\u001b[0m\u001b[0m\n\u001b[0;32m      3\u001b[0m \u001b[1;33m\u001b[0m\u001b[0m\n",
      "\u001b[1;31mOperationalError\u001b[0m: unable to open database file"
     ]
    }
   ],
   "source": [
    "connection = sqlite3.connect(\"sqlite:///Energy_project.db\") # change to 'sqlite:///your_filename.db' #:memory:\n",
    "cursor = connection.cursor()\n",
    "\n"
   ]
  },
  {
   "cell_type": "code",
   "execution_count": 18,
   "metadata": {},
   "outputs": [
    {
     "ename": "OperationalError",
     "evalue": "incomplete input",
     "output_type": "error",
     "traceback": [
      "\u001b[1;31m---------------------------------------------------------------------------\u001b[0m",
      "\u001b[1;31mOperationalError\u001b[0m                          Traceback (most recent call last)",
      "\u001b[1;32m<ipython-input-18-389e4b6aa925>\u001b[0m in \u001b[0;36m<module>\u001b[1;34m\u001b[0m\n\u001b[0;32m      1\u001b[0m \u001b[1;31m# use your column names here\u001b[0m\u001b[1;33m\u001b[0m\u001b[1;33m\u001b[0m\u001b[1;33m\u001b[0m\u001b[0m\n\u001b[1;32m----> 2\u001b[1;33m \u001b[0mcursor\u001b[0m\u001b[1;33m.\u001b[0m\u001b[0mexecute\u001b[0m\u001b[1;33m(\u001b[0m\u001b[1;34m\"CREATE TABLE t (State, Nuclear, Coal, Natural Gas, Petroleum, Hydro, Geothermal, Solar PV, Wind, Biomass Other\"\u001b[0m\u001b[1;33m)\u001b[0m\u001b[1;33m\u001b[0m\u001b[1;33m\u001b[0m\u001b[0m\n\u001b[0m\u001b[0;32m      3\u001b[0m \u001b[1;33m\u001b[0m\u001b[0m\n\u001b[0;32m      4\u001b[0m \u001b[1;32mwith\u001b[0m \u001b[0mopen\u001b[0m\u001b[1;33m(\u001b[0m\u001b[1;34m'./Resources/US/us_percentage.csv'\u001b[0m\u001b[1;33m,\u001b[0m\u001b[1;34m'r'\u001b[0m\u001b[1;33m)\u001b[0m \u001b[1;32mas\u001b[0m \u001b[0mfin\u001b[0m\u001b[1;33m:\u001b[0m \u001b[1;31m# `with` statement available in 2.5+\u001b[0m\u001b[1;33m\u001b[0m\u001b[1;33m\u001b[0m\u001b[0m\n\u001b[0;32m      5\u001b[0m     \u001b[1;31m# csv.DictReader uses first line in file for column headings by default\u001b[0m\u001b[1;33m\u001b[0m\u001b[1;33m\u001b[0m\u001b[1;33m\u001b[0m\u001b[0m\n",
      "\u001b[1;31mOperationalError\u001b[0m: incomplete input"
     ]
    }
   ],
   "source": [
    "# use your column names here\n",
    "cursor.execute(\"CREATE TABLE t (State, Nuclear, Coal, Natural Gas, Petroleum, Hydro, Geothermal, Solar PV, Wind, Biomass Other\") \n",
    "\n",
    "with open('./Resources/US/us_percentage.csv','r') as fin: # `with` statement available in 2.5+\n",
    "    # csv.DictReader uses first line in file for column headings by default\n",
    "    dr = csv.DictReader(fin) # comma is default delimiter\n",
    "    to_db = [(i[\"State\"], i[\"Nuclear\"], i[\"Coal\"], i[\"Natural Gas\"], i[\"Petroleum\"], i[\"Hydro\"], i[\"Geothermal\"], i[\"Solar - PV\"], i[\"Wind\"], i[\"Biomass and Other\"]) for i in dr]\n",
    "\n",
    "cur.executemany(\"INSERT INTO t (State, Nuclear, Coal, Natural Gas, Petroleum, Hydro, Geothermal, Solar - PV, Wind, Biomass and Other) ) VALUES (?, ?);\", to_db)\n",
    "con.commit()\n",
    "con.close()"
   ]
  },
  {
   "cell_type": "code",
   "execution_count": null,
   "metadata": {},
   "outputs": [],
   "source": []
  },
  {
   "cell_type": "code",
   "execution_count": null,
   "metadata": {},
   "outputs": [],
   "source": []
  },
  {
   "cell_type": "markdown",
   "metadata": {},
   "source": [
    "## Add CSV and json to SQL, Postgress"
   ]
  },
  {
   "cell_type": "code",
   "execution_count": 10,
   "metadata": {},
   "outputs": [],
   "source": [
    "# Connect to local database\n",
    "code_source_passcode = open('/Users/Richa/Desktop/Files/SQL_private_connect.py') \n",
    "# Add you password here\n",
    "#code_source_passcode = open('/Users/......./SQL_private_connect.py') \n",
    "\n",
    "sql_private_connect = code_source_passcode.read()"
   ]
  },
  {
   "cell_type": "code",
   "execution_count": 11,
   "metadata": {},
   "outputs": [],
   "source": [
    "engine = create_engine(f'postgresql://{sql_private_connect}@localhost:5432/Energy_DB')\n",
    "connection = engine.connect()"
   ]
  },
  {
   "cell_type": "code",
   "execution_count": 12,
   "metadata": {},
   "outputs": [
    {
     "data": {
      "text/plain": [
       "['us_percentage', 'us_generation_power']"
      ]
     },
     "execution_count": 12,
     "metadata": {},
     "output_type": "execute_result"
    }
   ],
   "source": [
    "# Check for tables\n",
    "engine.table_names() "
   ]
  },
  {
   "cell_type": "code",
   "execution_count": 13,
   "metadata": {},
   "outputs": [],
   "source": [
    "# Use pandas to load web scraped converted DataFrame into database\n",
    "US_percentage_df.to_sql(name='us_percentage', \n",
    "                      con=engine, \n",
    "                      if_exists='replace', \n",
    "                      index=False)\n"
   ]
  },
  {
   "cell_type": "code",
   "execution_count": 14,
   "metadata": {},
   "outputs": [],
   "source": [
    "# Use pandas to load csv converted DataFrame into database\n",
    "annual_US_generation_df.to_sql(name='us_generation_power', \n",
    "                               con=engine, \n",
    "                               if_exists='replace', \n",
    "                               index=False)"
   ]
  },
  {
   "cell_type": "code",
   "execution_count": null,
   "metadata": {},
   "outputs": [],
   "source": [
    "# # Use pandas to load csv converted DataFrame into database\n",
    "# CSV_df_2.to_sql(name='name2', \n",
    "#                con=engine, \n",
    "#                if_exists='replace', \n",
    "#                index=False)"
   ]
  },
  {
   "cell_type": "code",
   "execution_count": 15,
   "metadata": {},
   "outputs": [
    {
     "data": {
      "text/plain": [
       "['us_percentage', 'us_generation_power']"
      ]
     },
     "execution_count": 15,
     "metadata": {},
     "output_type": "execute_result"
    }
   ],
   "source": [
    "# Check for tables\n",
    "engine.table_names() "
   ]
  },
  {
   "cell_type": "markdown",
   "metadata": {},
   "source": [
    "### Check tables and data before making charts"
   ]
  },
  {
   "cell_type": "code",
   "execution_count": 16,
   "metadata": {},
   "outputs": [
    {
     "data": {
      "text/html": [
       "<div>\n",
       "<style scoped>\n",
       "    .dataframe tbody tr th:only-of-type {\n",
       "        vertical-align: middle;\n",
       "    }\n",
       "\n",
       "    .dataframe tbody tr th {\n",
       "        vertical-align: top;\n",
       "    }\n",
       "\n",
       "    .dataframe thead th {\n",
       "        text-align: right;\n",
       "    }\n",
       "</style>\n",
       "<table border=\"1\" class=\"dataframe\">\n",
       "  <thead>\n",
       "    <tr style=\"text-align: right;\">\n",
       "      <th></th>\n",
       "      <th>State</th>\n",
       "      <th>Nuclear</th>\n",
       "      <th>Coal</th>\n",
       "      <th>Natural Gas</th>\n",
       "      <th>Petroleum</th>\n",
       "      <th>Hydro</th>\n",
       "      <th>Geothermal</th>\n",
       "      <th>Solar - PV</th>\n",
       "      <th>Wind</th>\n",
       "      <th>Biomass and Other</th>\n",
       "    </tr>\n",
       "  </thead>\n",
       "  <tbody>\n",
       "    <tr>\n",
       "      <th>0</th>\n",
       "      <td>Alabama</td>\n",
       "      <td>31.4</td>\n",
       "      <td>19.2</td>\n",
       "      <td>38.7</td>\n",
       "      <td>0.0</td>\n",
       "      <td>7.8</td>\n",
       "      <td>0.0</td>\n",
       "      <td>0.3</td>\n",
       "      <td>0.0</td>\n",
       "      <td>2.5</td>\n",
       "    </tr>\n",
       "    <tr>\n",
       "      <th>1</th>\n",
       "      <td>Alaska</td>\n",
       "      <td>0.0</td>\n",
       "      <td>10.6</td>\n",
       "      <td>49.9</td>\n",
       "      <td>14.4</td>\n",
       "      <td>22.0</td>\n",
       "      <td>0.0</td>\n",
       "      <td>0.0</td>\n",
       "      <td>2.4</td>\n",
       "      <td>0.6</td>\n",
       "    </tr>\n",
       "    <tr>\n",
       "      <th>2</th>\n",
       "      <td>Arizona</td>\n",
       "      <td>28.1</td>\n",
       "      <td>20.4</td>\n",
       "      <td>40.9</td>\n",
       "      <td>0.1</td>\n",
       "      <td>5.4</td>\n",
       "      <td>0.0</td>\n",
       "      <td>4.5</td>\n",
       "      <td>0.5</td>\n",
       "      <td>0.2</td>\n",
       "    </tr>\n",
       "    <tr>\n",
       "      <th>3</th>\n",
       "      <td>Arkansas</td>\n",
       "      <td>22.0</td>\n",
       "      <td>37.9</td>\n",
       "      <td>33.0</td>\n",
       "      <td>0.1</td>\n",
       "      <td>4.5</td>\n",
       "      <td>0.0</td>\n",
       "      <td>0.3</td>\n",
       "      <td>0.0</td>\n",
       "      <td>2.2</td>\n",
       "    </tr>\n",
       "    <tr>\n",
       "      <th>4</th>\n",
       "      <td>California</td>\n",
       "      <td>7.9</td>\n",
       "      <td>0.1</td>\n",
       "      <td>42.4</td>\n",
       "      <td>0.0</td>\n",
       "      <td>19.5</td>\n",
       "      <td>5.6</td>\n",
       "      <td>14.0</td>\n",
       "      <td>7.3</td>\n",
       "      <td>3.2</td>\n",
       "    </tr>\n",
       "  </tbody>\n",
       "</table>\n",
       "</div>"
      ],
      "text/plain": [
       "        State Nuclear  Coal Natural Gas Petroleum Hydro Geothermal Solar - PV  \\\n",
       "0     Alabama    31.4  19.2        38.7       0.0   7.8        0.0        0.3   \n",
       "1      Alaska     0.0  10.6        49.9      14.4  22.0        0.0        0.0   \n",
       "2     Arizona    28.1  20.4        40.9       0.1   5.4        0.0        4.5   \n",
       "3    Arkansas    22.0  37.9        33.0       0.1   4.5        0.0        0.3   \n",
       "4  California     7.9   0.1        42.4       0.0  19.5        5.6       14.0   \n",
       "\n",
       "  Wind Biomass and Other  \n",
       "0  0.0               2.5  \n",
       "1  2.4               0.6  \n",
       "2  0.5               0.2  \n",
       "3  0.0               2.2  \n",
       "4  7.3               3.2  "
      ]
     },
     "execution_count": 16,
     "metadata": {},
     "output_type": "execute_result"
    }
   ],
   "source": [
    "# Confirm data has been added by querying the insider table\n",
    "SQL_Web_scrapped_loaded = pd.read_sql_query('select * from us_percentage', con=engine)\n",
    "SQL_Web_scrapped_loaded.head()"
   ]
  },
  {
   "cell_type": "code",
   "execution_count": 17,
   "metadata": {},
   "outputs": [
    {
     "data": {
      "text/html": [
       "<div>\n",
       "<style scoped>\n",
       "    .dataframe tbody tr th:only-of-type {\n",
       "        vertical-align: middle;\n",
       "    }\n",
       "\n",
       "    .dataframe tbody tr th {\n",
       "        vertical-align: top;\n",
       "    }\n",
       "\n",
       "    .dataframe thead th {\n",
       "        text-align: right;\n",
       "    }\n",
       "</style>\n",
       "<table border=\"1\" class=\"dataframe\">\n",
       "  <thead>\n",
       "    <tr style=\"text-align: right;\">\n",
       "      <th></th>\n",
       "      <th>YEAR</th>\n",
       "      <th>STATE</th>\n",
       "      <th>TYPE OF PRODUCER</th>\n",
       "      <th>ENERGY SOURCE</th>\n",
       "      <th>GENERATION Mwh</th>\n",
       "    </tr>\n",
       "  </thead>\n",
       "  <tbody>\n",
       "    <tr>\n",
       "      <th>0</th>\n",
       "      <td>1990</td>\n",
       "      <td>AK</td>\n",
       "      <td>Total Electric Power Industry</td>\n",
       "      <td>Total</td>\n",
       "      <td>5,599,506</td>\n",
       "    </tr>\n",
       "    <tr>\n",
       "      <th>1</th>\n",
       "      <td>1990</td>\n",
       "      <td>AK</td>\n",
       "      <td>Total Electric Power Industry</td>\n",
       "      <td>Coal</td>\n",
       "      <td>510,573</td>\n",
       "    </tr>\n",
       "    <tr>\n",
       "      <th>2</th>\n",
       "      <td>1990</td>\n",
       "      <td>AK</td>\n",
       "      <td>Total Electric Power Industry</td>\n",
       "      <td>Hydroelectric Conventional</td>\n",
       "      <td>974,521</td>\n",
       "    </tr>\n",
       "    <tr>\n",
       "      <th>3</th>\n",
       "      <td>1990</td>\n",
       "      <td>AK</td>\n",
       "      <td>Total Electric Power Industry</td>\n",
       "      <td>Natural Gas</td>\n",
       "      <td>3,466,261</td>\n",
       "    </tr>\n",
       "    <tr>\n",
       "      <th>4</th>\n",
       "      <td>1990</td>\n",
       "      <td>AK</td>\n",
       "      <td>Total Electric Power Industry</td>\n",
       "      <td>Petroleum</td>\n",
       "      <td>497,116</td>\n",
       "    </tr>\n",
       "  </tbody>\n",
       "</table>\n",
       "</div>"
      ],
      "text/plain": [
       "   YEAR STATE               TYPE OF PRODUCER               ENERGY SOURCE  \\\n",
       "0  1990    AK  Total Electric Power Industry                       Total   \n",
       "1  1990    AK  Total Electric Power Industry                        Coal   \n",
       "2  1990    AK  Total Electric Power Industry  Hydroelectric Conventional   \n",
       "3  1990    AK  Total Electric Power Industry                 Natural Gas   \n",
       "4  1990    AK  Total Electric Power Industry                   Petroleum   \n",
       "\n",
       "  GENERATION Mwh  \n",
       "0      5,599,506  \n",
       "1        510,573  \n",
       "2        974,521  \n",
       "3      3,466,261  \n",
       "4        497,116  "
      ]
     },
     "execution_count": 17,
     "metadata": {},
     "output_type": "execute_result"
    }
   ],
   "source": [
    "# Confirm data has been added by querying the insider table\n",
    "SQL_CSV1_loaded = pd.read_sql_query('select * from us_generation_power', con=engine)\n",
    "SQL_CSV1_loaded.head()"
   ]
  },
  {
   "cell_type": "code",
   "execution_count": null,
   "metadata": {},
   "outputs": [],
   "source": [
    "# # Confirm data has been added by querying the insider table\n",
    "# SQL_CSV1_loaded = pd.read_sql_query('select * from name1', con=engine)\n",
    "# SQL_CSV1_loaded.head()"
   ]
  },
  {
   "cell_type": "code",
   "execution_count": null,
   "metadata": {},
   "outputs": [],
   "source": []
  },
  {
   "cell_type": "code",
   "execution_count": null,
   "metadata": {},
   "outputs": [],
   "source": []
  }
 ],
 "metadata": {
  "kernelspec": {
   "display_name": "Python [conda env:PythonData] *",
   "language": "python",
   "name": "conda-env-PythonData-py"
  },
  "language_info": {
   "codemirror_mode": {
    "name": "ipython",
    "version": 3
   },
   "file_extension": ".py",
   "mimetype": "text/x-python",
   "name": "python",
   "nbconvert_exporter": "python",
   "pygments_lexer": "ipython3",
   "version": "3.6.10"
  }
 },
 "nbformat": 4,
 "nbformat_minor": 4
}
